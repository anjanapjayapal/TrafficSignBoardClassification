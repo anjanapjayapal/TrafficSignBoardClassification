{
 "cells": [
  {
   "cell_type": "code",
   "execution_count": 5,
   "metadata": {},
   "outputs": [
    {
     "name": "stdout",
     "output_type": "stream",
     "text": [
      "Collecting pillow\n",
      "  Using cached pillow-11.0.0-cp312-cp312-win_amd64.whl.metadata (9.3 kB)\n",
      "Using cached pillow-11.0.0-cp312-cp312-win_amd64.whl (2.6 MB)\n",
      "Installing collected packages: pillow\n",
      "Successfully installed pillow-11.0.0\n"
     ]
    }
   ],
   "source": [
    "!pip install pillow\n"
   ]
  },
  {
   "cell_type": "code",
   "execution_count": 5,
   "metadata": {},
   "outputs": [],
   "source": [
    "import os\n",
    "import numpy as np\n",
    "import pandas as pd\n",
    "import cv2\n",
    "from PIL import Image\n",
    "from collections import Counter, defaultdict\n",
    "from tensorflow.keras.preprocessing.image import ImageDataGenerator"
   ]
  },
  {
   "cell_type": "code",
   "execution_count": null,
   "metadata": {},
   "outputs": [],
   "source": [
    "import os\n",
    "import pandas as pd\n",
    "import cv2\n",
    "from collections import Counter\n",
    "\n",
    "# Load the dataset paths\n",
    "base_path = \"Indian-Traffic Sign-Dataset\"\n",
    "images_path = os.path.join(base_path, \"Images\")\n",
    "labels_csv = os.path.join(base_path, \"traffic_sign.csv\")\n",
    "\n",
    "# Load labels\n",
    "labels_df = pd.read_csv(labels_csv)\n",
    "\n",
    "# Count images in each class before merging\n",
    "def count_images_in_class(path):\n",
    "    class_counts = Counter()\n",
    "    for class_id in os.listdir(path):\n",
    "        class_dir = os.path.join(path, class_id)\n",
    "        if os.path.isdir(class_dir):\n",
    "            class_counts[class_id] = len(os.listdir(class_dir))\n",
    "    return class_counts\n",
    "\n",
    "print(\"Image counts before merging:\")\n",
    "class_counts_before = count_images_in_class(images_path)\n",
    "for class_id, count in sorted(class_counts_before.items(), key=lambda x: int(x[0])):\n",
    "    print(f\"Class {class_id}: {count} images\")\n",
    "\n",
    "# Handle duplicates in the CSV\n",
    "duplicate_groups = labels_df.groupby(\"Name\")[\"ClassId\"].apply(list)\n",
    "merged_class_ids = {}\n",
    "new_class_id = 0\n",
    "\n",
    "for label, class_ids in duplicate_groups.items():\n",
    "    for old_id in class_ids:\n",
    "        merged_class_ids[old_id] = new_class_id\n",
    "    new_class_id += 1\n",
    "\n",
    "# Update CSV with merged class IDs\n",
    "labels_df[\"ClassId\"] = labels_df[\"ClassId\"].map(merged_class_ids)\n",
    "updated_csv_path = os.path.join(base_path, \"traffic_sign_updated.csv\")\n",
    "labels_df.to_csv(updated_csv_path, index=False)\n",
    "print(\"CSV file updated and saved to:\", updated_csv_path)\n",
    "\n",
    "# Merge image folders\n",
    "new_images_path = os.path.join(base_path, \"Images_Merged\")\n",
    "os.makedirs(new_images_path, exist_ok=True)\n",
    "\n",
    "for old_class_id, new_class_id in merged_class_ids.items():\n",
    "    old_class_dir = os.path.join(images_path, str(old_class_id))\n",
    "    new_class_dir = os.path.join(new_images_path, str(new_class_id))\n",
    "    os.makedirs(new_class_dir, exist_ok=True)\n",
    "    \n",
    "    if os.path.exists(old_class_dir):\n",
    "        for img_file in os.listdir(old_class_dir):\n",
    "            old_img_path = os.path.join(old_class_dir, img_file)\n",
    "            new_img_path = os.path.join(new_class_dir, img_file)\n",
    "            os.rename(old_img_path, new_img_path)\n",
    "\n",
    "print(\"Image folders merged and saved to:\", new_images_path)\n",
    "\n",
    "# Count images in each class after merging\n",
    "print(\"\\nImage counts after merging:\")\n",
    "class_counts_after = count_images_in_class(new_images_path)\n",
    "for class_id, count in sorted(class_counts_after.items(), key=lambda x: int(x[0])):\n",
    "    print(f\"Class {class_id}: {count} images\")\n"
   ]
  }
 ],
 "metadata": {
  "kernelspec": {
   "display_name": "Python 3",
   "language": "python",
   "name": "python3"
  },
  "language_info": {
   "codemirror_mode": {
    "name": "ipython",
    "version": 3
   },
   "file_extension": ".py",
   "mimetype": "text/x-python",
   "name": "python",
   "nbconvert_exporter": "python",
   "pygments_lexer": "ipython3",
   "version": "3.12.0"
  }
 },
 "nbformat": 4,
 "nbformat_minor": 2
}
